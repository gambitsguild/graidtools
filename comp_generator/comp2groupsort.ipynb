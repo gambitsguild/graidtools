{
 "cells": [
  {
   "cell_type": "code",
   "execution_count": 17,
   "metadata": {},
   "outputs": [
    {
     "name": "stdout",
     "output_type": "stream",
     "text": [
      "Ixam Kalahari Doomshere Kurtizzle Fumanchu\n",
      "Enyalius Tahuk Noddy Mayyday Cinnarhia\n",
      "Tenu Xidana Gogoroth Aniothable Kaarism\n",
      "Bull Thegrim Quelzan Arkanae Nespherus\n",
      "Wilderhoof Harmlessharm Nutriana Dragh Frøy\n"
     ]
    }
   ],
   "source": [
    "from urllib.parse import unquote\n",
    "\n",
    "URL = \"\"\"\n",
    "\n",
    "https://tbc.wowhead.com/raid-composition#0gGChtgCCCvxyyJsxqbbywwwpp000000000000000JyCbgmmy00H;Ixam;Kalahari;Joe/Doom;Kurtizzle;Fumanchew;Enyalius;Diminius/tahuk;Noddy;Payyday;Cinnarhia;Tenu;Xidana;Gogoroth;aniothable;Kaarism;Bull/Naughtynurse;TheGrim;Quelzan;Arkanae;Nespherus;Wilderhoof;HarmlessHarm;Nutriana/Zebop;Dragh;Fr%C3%B8y;;;;;;;;;;;;;;;;Da%C3%AB;Styga;MedusaNyx;Clarina;Namett;Sofija;Bitterness;Dothrek;;;Harahsjorn\n",
    "\n",
    "\"\"\"\n",
    "\n",
    "name_lookup = {\n",
    "    'Joe/Doom': 'Doomshere',\n",
    "    'Diminius/tahuk': 'Tahuk',\n",
    "    'Fumanchew': 'Fumanchu',\n",
    "    'Payyday': 'Mayyday',\n",
    "    'Bull/Naughtynurse': 'Bull',\n",
    "    'Nutriana/Zebop': 'Nutriana'\n",
    "}\n",
    "\n",
    "def get_name(name):\n",
    "    name = unquote(name)\n",
    "    if name in name_lookup:\n",
    "        name = name_lookup[name]\n",
    "    return name.capitalize()\n",
    "\n",
    "nPlayers = 25\n",
    "\n",
    "players = URL.split(';')[1:]\n",
    "RAID = [get_name(s) for s in players[:nPlayers]]\n",
    "\n",
    "GROUPS = [RAID[i*5: (i+1)*5] for i in range(nPlayers//5)]\n",
    "print(\"\\n\".join(\" \".join(g) for g in GROUPS))\n"
   ]
  }
 ],
 "metadata": {
  "interpreter": {
   "hash": "ecf5722fdaf1897a315d257d89d94520bfcaa453217d5becf09b39e73618b0de"
  },
  "kernelspec": {
   "display_name": "Python 3.8.12 64-bit ('base': conda)",
   "language": "python",
   "name": "python3"
  },
  "language_info": {
   "name": "python",
   "version": "3.8.12"
  },
  "orig_nbformat": 4
 },
 "nbformat": 4,
 "nbformat_minor": 2
}
