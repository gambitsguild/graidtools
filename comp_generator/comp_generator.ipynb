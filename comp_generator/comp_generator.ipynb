{
 "cells": [
  {
   "cell_type": "code",
   "execution_count": 38,
   "source": [
    "wowhead_key = {\r\n",
    "    'Druid': 'x',\r\n",
    "    'HealerDruid': 'w',\r\n",
    "    'Hunter': 'C',\r\n",
    "    'Mage': 'b',\r\n",
    "    'Paladin': 'G',\r\n",
    "    'HealerPaladin': 'H',\r\n",
    "    'Priest': 'q',\r\n",
    "    'HealerPriest': 'p',\r\n",
    "    'Rogue': 'm',\r\n",
    "    'Shaman': 'r',\r\n",
    "    'MeleeShaman': 't',\r\n",
    "    'HealerShaman': 's',\r\n",
    "    'Warlock': 'y',\r\n",
    "    'Warrior': 'h',\r\n",
    "    'Tank': 'g'\r\n",
    "\r\n",
    "}\r\n",
    "\r\n",
    "wowhead_base_url = \"https://tbc.wowhead.com/raid-composition#0\"\r\n",
    "\r\n",
    "\r\n",
    "class_signs = '''\r\n",
    "Tank: Ixam, Thaalia, Talasi, DeekinBearcat\r\n",
    "Warrior: Kroggar, Razgore\r\n",
    "Druid: Hipster, HarmlessHarm, SoCuteLittleSilenzio\r\n",
    "Rogue: Daxa\r\n",
    "Hunter: Diminius/tahuk, Payyday, Noddy\r\n",
    "Priest: Fourx\r\n",
    "Mage: Quelzan\r\n",
    "Warlock: Zarkov, ckydayle, Gogoroth, Garzhik, Nespherus\r\n",
    "Shaman: Nerf, Mypka, Lilypad/Lavenderlily, Undergang, Kaarism\r\n",
    "Absence: Keyzer, Harahsjorn\r\n",
    "'''\r\n",
    "\r\n",
    "role_signs = '''\r\n",
    "Tanks: Ixam, Thaalia, Talasi, DeekinBearcat,\r\n",
    "Melee: Kroggar, Mypka, Razgore, Daxa,\r\n",
    "Ranged: Diminius/tahuk, Quelzan, Payyday, Zarkov, Nerf, ckydayle, Lilypad/Lavenderlily, Gogoroth, Noddy, Garzhik, Nespherus,\r\n",
    "Healers: Hipster, HarmlessHarm, SoCuteLittleSilenzio, Fourx, Undergang, Kaarism\r\n",
    "'''\r\n",
    "\r\n",
    "# classes = {line.split(':')[0] : line.split(':')[1].split(',') for line in signs.split('\\n')}\r\n",
    "classes = dict()\r\n",
    "roles = dict()\r\n",
    "\r\n",
    "# Generate index for class->[names]\r\n",
    "for line in class_signs.split('\\n'):\r\n",
    "    if line != '':\r\n",
    "        c, names = line.split(':')\r\n",
    "        classes[c] = [n.strip() for n in names.split(',')]\r\n",
    "\r\n",
    "# Generate inverse index for names->role\r\n",
    "for line in role_signs.split('\\n'):\r\n",
    "    if line != '':\r\n",
    "        r, names = line.split(':')\r\n",
    "        names = [n.strip() for n in names.split(',')]\r\n",
    "        for name in names:\r\n",
    "            roles[name] = r\r\n",
    "\r\n",
    "\r\n",
    "class_url = \"\"\r\n",
    "name_url = \"\"\r\n",
    "\r\n",
    "for c, names in classes.items():\r\n",
    "    if c == \"Absence\":\r\n",
    "        continue\r\n",
    "    for name in names:\r\n",
    "        key = c\r\n",
    "        if roles[name] == 'Healers':\r\n",
    "            key = \"Healer\" + key\r\n",
    "        if key == \"Shaman\" and roles[name] == \"Melee\":\r\n",
    "            key = \"Melee\" + key\r\n",
    "        class_url += wowhead_key[key]\r\n",
    "        name_url += \";\" + name\r\n",
    "\r\n",
    "\r\n",
    "print(wowhead_base_url + class_url + name_url)\r\n",
    "\r\n",
    "\r\n"
   ],
   "outputs": [
    {
     "output_type": "stream",
     "name": "stdout",
     "text": [
      "https://tbc.wowhead.com/raid-composition#0gggghhwwwmCCCpbyyyyyrtrss;Ixam;Thaalia;Talasi;DeekinBearcat;Kroggar;Razgore;Hipster;HarmlessHarm;SoCuteLittleSilenzio;Daxa;Diminius/tahuk;Payyday;Noddy;Fourx;Quelzan;Zarkov;ckydayle;Gogoroth;Garzhik;Nespherus;Nerf;Mypka;Lilypad/Lavenderlily;Undergang;Kaarism\n"
     ]
    }
   ],
   "metadata": {}
  }
 ],
 "metadata": {
  "orig_nbformat": 4,
  "language_info": {
   "name": "python",
   "version": "3.8.5",
   "mimetype": "text/x-python",
   "codemirror_mode": {
    "name": "ipython",
    "version": 3
   },
   "pygments_lexer": "ipython3",
   "nbconvert_exporter": "python",
   "file_extension": ".py"
  },
  "kernelspec": {
   "name": "python3",
   "display_name": "Python 3.8.5 64-bit ('base': conda)"
  },
  "interpreter": {
   "hash": "ecf5722fdaf1897a315d257d89d94520bfcaa453217d5becf09b39e73618b0de"
  }
 },
 "nbformat": 4,
 "nbformat_minor": 2
}