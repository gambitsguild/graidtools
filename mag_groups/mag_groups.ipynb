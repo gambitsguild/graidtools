{
 "cells": [
  {
   "cell_type": "code",
   "execution_count": 3,
   "source": [
    "from mag_groups import *\r\n",
    "\r\n",
    "# The URL in wowheads comp tool doesn't refresh all the time when you make changes, make sure to reload to update the URL\r\n",
    "# This example URL has the locations in group 3 (it won't show up as a group in the /rw) with suggested classes\r\n",
    "URL = \"https://tbc.wowhead.com/raid-composition#0wjbfrwvqfswfbjr;Harmlessharm;Daxa;Quelzan;Kroggar;Nerf;Silenzio;Talasi;Keyzer;Razgore;Kaarism;SKULL+(entrance);CROSS;SQUARE+(close+to+boss);TRIANGLE;MOON+(close+to+boss)\"\r\n",
    "\r\n",
    "write_macro(groups_from_url(URL))\r\n"
   ],
   "outputs": [
    {
     "output_type": "stream",
     "name": "stdout",
     "text": [
      "/rw group 1 {skull} Harmlessharm || {cross} Daxa || {square} Quelzan || {moon} Kroggar || {triangle} Nerf\n",
      "/rw group 2 {skull} Silenzio || {cross} Talasi || {square} Keyzer || {moon} Razgore || {triangle} Kaarism\n"
     ]
    }
   ],
   "metadata": {}
  }
 ],
 "metadata": {
  "orig_nbformat": 4,
  "language_info": {
   "name": "python",
   "version": "3.8.5",
   "mimetype": "text/x-python",
   "codemirror_mode": {
    "name": "ipython",
    "version": 3
   },
   "pygments_lexer": "ipython3",
   "nbconvert_exporter": "python",
   "file_extension": ".py"
  },
  "kernelspec": {
   "name": "python3",
   "display_name": "Python 3.8.5 64-bit ('base': conda)"
  },
  "interpreter": {
   "hash": "ecf5722fdaf1897a315d257d89d94520bfcaa453217d5becf09b39e73618b0de"
  }
 },
 "nbformat": 4,
 "nbformat_minor": 2
}